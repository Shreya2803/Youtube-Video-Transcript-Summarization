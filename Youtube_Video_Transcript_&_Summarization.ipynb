{
  "nbformat": 4,
  "nbformat_minor": 0,
  "metadata": {
    "colab": {
      "provenance": [],
      "authorship_tag": "ABX9TyNvPdjZFu4fWidNKdH9UNVa",
      "include_colab_link": true
    },
    "kernelspec": {
      "name": "python3",
      "display_name": "Python 3"
    },
    "language_info": {
      "name": "python"
    }
  },
  "cells": [
    {
      "cell_type": "markdown",
      "metadata": {
        "id": "view-in-github",
        "colab_type": "text"
      },
      "source": [
        "<a href=\"https://colab.research.google.com/github/Shreya2803/Youtube-Video-Transcript-Summarization/blob/main/Youtube_Video_Transcript_%26_Summarization.ipynb\" target=\"_parent\"><img src=\"https://colab.research.google.com/assets/colab-badge.svg\" alt=\"Open In Colab\"/></a>"
      ]
    },
    {
      "cell_type": "markdown",
      "source": [
        "**Transcript & Summarize Youtube Video**\n",
        "\n",
        "Creates line by line transcription of the speakers and also summarize it and the summarization can be downloaded in pdf format.\n",
        "This project is suitable for transcripting short length youtube videos. Youtube videos with longer duration ( more than 1 hour) will take too much time to transcribe.\n",
        "\n",
        "**Libraries Used :**\n",
        "  \n",
        "\n",
        "1.   Transformers (open-source library developed by Hugging Face)\n",
        "2.   youtube_transcript_api(fetch the transcripts or closed captions of YouTube videos)\n",
        "3.   reportlab  (To create pdf)\n",
        "\n",
        "\n",
        "\n"
      ],
      "metadata": {
        "id": "0kvsaPHdhGOU"
      }
    },
    {
      "cell_type": "markdown",
      "source": [
        "**Installing Dependencies**"
      ],
      "metadata": {
        "id": "blnyUq9hkuAy"
      }
    },
    {
      "cell_type": "code",
      "execution_count": 50,
      "metadata": {
        "id": "u5eTz_QrKO2t"
      },
      "outputs": [],
      "source": [
        "'''\n",
        "   ---   The library is built on top of the PyTorch and TensorFlow frameworks\n",
        "   ---   Access and use a variety of pre-trained models like BERT, GPT-3\n",
        "   ---   Imports the relevant components from the library, such as models, tokenizers, and pipelines, to perform various NLP tasks.\n",
        "'''\n",
        "!pip install -q transformers"
      ]
    },
    {
      "cell_type": "code",
      "source": [
        "'''\n",
        "   ---   This is a python API which allows you to get the transcript/subtitles for a given YouTube video\n",
        "   ---   works for automatically generated subtitles, supports translating subtitles\n",
        "   ---    it does not require a headless browser, like other selenium based solutions do\n",
        "'''\n",
        "!pip install -q youtube_transcript_api"
      ],
      "metadata": {
        "id": "Pp-yXrKbLbpe"
      },
      "execution_count": 51,
      "outputs": []
    },
    {
      "cell_type": "code",
      "source": [
        "'''\n",
        "   ---   open source toolkit for creating PDF documents\n",
        "   ---  Features:  Flexibility in setting page layout, Support for adding images , Text manipulation\n",
        "'''\n",
        "!pip install reportlab\n"
      ],
      "metadata": {
        "colab": {
          "base_uri": "https://localhost:8080/"
        },
        "id": "MdtpOX6MZ6rN",
        "outputId": "14088de1-0431-473a-b87d-100818c51d30"
      },
      "execution_count": 52,
      "outputs": [
        {
          "output_type": "stream",
          "name": "stdout",
          "text": [
            "Requirement already satisfied: reportlab in /usr/local/lib/python3.10/dist-packages (4.0.4)\n",
            "Requirement already satisfied: pillow>=9.0.0 in /usr/local/lib/python3.10/dist-packages (from reportlab) (9.4.0)\n"
          ]
        }
      ]
    },
    {
      "cell_type": "code",
      "source": [
        "'''\n",
        "   transformers pipeline for sentiment analysis to analyze the sentiment of the video transcript.\n",
        "'''\n",
        "from transformers import pipeline\n",
        "from youtube_transcript_api import YouTubeTranscriptApi\n"
      ],
      "metadata": {
        "id": "zD1Ay4rnLeMO"
      },
      "execution_count": 54,
      "outputs": []
    },
    {
      "cell_type": "code",
      "source": [
        "'''\n",
        "   These classes are used for sequence-to-sequence language modeling tasks, such as text summarization and translation\n",
        "'''\n",
        "\n",
        "from transformers import AutoModelForSeq2SeqLM, AutoTokenizer"
      ],
      "metadata": {
        "id": "suO-sDN6N0T6"
      },
      "execution_count": 55,
      "outputs": []
    },
    {
      "cell_type": "markdown",
      "source": [
        "**BART (Bidirectional and Auto-Regressive Transformers) model for text summarization**"
      ],
      "metadata": {
        "id": "54NN8DN3pnfl"
      }
    },
    {
      "cell_type": "code",
      "source": [
        "'''\n",
        "   ---   BART available in the Hugging Face transformers library.\n",
        "   ---   The code initializes the tokenizer and model using the AutoTokenizer and AutoModelForSeq2SeqLM classes.\n",
        "   ---   AutoModelForSeq2SeqLM loads the pre-trained model specifically designed for sequence-to-sequence tasks like text summarization.\n",
        "   ---   This code  initializes the BART tokenizer (tokenizer) and the BART summarization model (summarizer).\n",
        "'''\n",
        "\n",
        "\n",
        "\n",
        "model_name = 'facebook/bart-large-cnn'\n",
        "tokenizer = AutoTokenizer.from_pretrained(model_name)\n",
        "summarizer = AutoModelForSeq2SeqLM.from_pretrained(model_name)\n"
      ],
      "metadata": {
        "id": "3UIwiLLiN6cR"
      },
      "execution_count": 56,
      "outputs": []
    },
    {
      "cell_type": "markdown",
      "source": [
        "Youtube Video link"
      ],
      "metadata": {
        "id": "EK0weTqcqb1x"
      }
    },
    {
      "cell_type": "code",
      "source": [
        "youtube_video = \"https://www.youtube.com/watch?v=ukzFI9rgwfU\""
      ],
      "metadata": {
        "id": "1O58IOw5LgPA"
      },
      "execution_count": 57,
      "outputs": []
    },
    {
      "cell_type": "markdown",
      "source": [
        "extracts the video ID from a YouTube video URL"
      ],
      "metadata": {
        "id": "hXEizQwgqqr0"
      }
    },
    {
      "cell_type": "code",
      "source": [
        "'''\n",
        "   ---   It assumes that the video URL is in a specific format where the video ID is present after the \"=\" character.\n",
        "   ---   There can be different possible ways a url can be present.\n",
        "   ---   There should be other possible ways to extract Id (That need to be figured out)\n",
        "   ---    if there is no \"=\" character in the URL, this code may result in an IndexError , so validate the URL format before extracting the video ID.\n",
        "'''\n",
        "\n",
        "video_id = youtube_video.split(\"=\")[1]"
      ],
      "metadata": {
        "id": "wgFA2SGQLiGt"
      },
      "execution_count": 59,
      "outputs": []
    },
    {
      "cell_type": "code",
      "source": [
        "video_id"
      ],
      "metadata": {
        "colab": {
          "base_uri": "https://localhost:8080/",
          "height": 36
        },
        "id": "JBSI0yPwLkC4",
        "outputId": "5cb8191f-c010-407f-b777-3cfd6a9c7cf3"
      },
      "execution_count": 60,
      "outputs": [
        {
          "output_type": "execute_result",
          "data": {
            "text/plain": [
              "'ukzFI9rgwfU'"
            ],
            "application/vnd.google.colaboratory.intrinsic+json": {
              "type": "string"
            }
          },
          "metadata": {},
          "execution_count": 60
        }
      ]
    },
    {
      "cell_type": "code",
      "source": [
        "'''\n",
        "---   It's a convenient way to visualize and interact with YouTube videos within your notebook.\n",
        "---   To use the YouTubeVideo class, you need to have the IPython package installed.\n",
        "---    In most Jupyter environments, this package is pre-installed\n",
        "'''\n",
        "\n",
        "from IPython.display import YouTubeVideo\n",
        "YouTubeVideo(video_id)"
      ],
      "metadata": {
        "colab": {
          "base_uri": "https://localhost:8080/",
          "height": 322
        },
        "id": "xQeEGk_mLn1f",
        "outputId": "03b8f854-c184-4ee3-feab-4748f493bb44"
      },
      "execution_count": 61,
      "outputs": [
        {
          "output_type": "execute_result",
          "data": {
            "text/plain": [
              "<IPython.lib.display.YouTubeVideo at 0x79386dc44a30>"
            ],
            "text/html": [
              "\n",
              "        <iframe\n",
              "            width=\"400\"\n",
              "            height=\"300\"\n",
              "            src=\"https://www.youtube.com/embed/ukzFI9rgwfU\"\n",
              "            frameborder=\"0\"\n",
              "            allowfullscreen\n",
              "            \n",
              "        ></iframe>\n",
              "        "
            ],
            "image/jpeg": "[encoded data removed]"
          },
          "metadata": {},
          "execution_count": 61
        }
      ]
    },
    {
      "cell_type": "code",
      "source": [
        "'''\n",
        "   ---   get_transcript() method will return a list of dictionaries, where each dictionary represents a caption segment of the video.\n",
        "   ---    Each dictionary contains the following keys: 'text', 'start', and 'duration'\n",
        "   ---   'text'  -  caption, 'start' -  start time of the caption segment in seconds, 'duration'contains the duration of the caption\n",
        "'''\n",
        "YouTubeTranscriptApi.get_transcript(video_id)\n",
        "transcript = YouTubeTranscriptApi.get_transcript(video_id)\n"
      ],
      "metadata": {
        "id": "bmp7gpJmLpKa"
      },
      "execution_count": 63,
      "outputs": []
    },
    {
      "cell_type": "markdown",
      "source": [
        "concatenate all the caption text from the transcript into a single string"
      ],
      "metadata": {
        "id": "noc48xuZsyEM"
      }
    },
    {
      "cell_type": "code",
      "source": [
        "\n",
        "result = \"\"\n",
        "for i in transcript:\n",
        "    result += ' ' + i['text']\n",
        "#print(result)\n",
        "print(len(result))"
      ],
      "metadata": {
        "colab": {
          "base_uri": "https://localhost:8080/"
        },
        "id": "h_4kblHKLvw9",
        "outputId": "99138869-dabe-4427-df70-d09a816cc032"
      },
      "execution_count": 64,
      "outputs": [
        {
          "output_type": "stream",
          "name": "stdout",
          "text": [
            "7633\n"
          ]
        }
      ]
    },
    {
      "cell_type": "markdown",
      "source": [
        "**Generating Summary using BART Tokenizer and summarizer model**"
      ],
      "metadata": {
        "id": "p5ptOuIktGl0"
      }
    },
    {
      "cell_type": "code",
      "source": [
        "'''\n",
        " It uses the BART tokenizer and summarizer model to generate a summary for a long transcript text by breaking it into smaller chunks.\n",
        " This approach is useful when the transcript text is too long for the summarizer model to process in one go,\n",
        " as some models have limitations on the maximum input length\n",
        " After processing all chunks, the code concatenates the individual summaries into a single summarized text\n",
        "'''\n",
        "\n",
        "print(\"Transcribed text:\\n\")\n",
        "#break the result text into smaller segments of 1000 characters\n",
        "num_iters = int(len(result) / 1000)\n",
        "summarized_text_chunks = []\n",
        "for i in range(0, num_iters + 1):\n",
        "    start = i * 1000\n",
        "    end = (i + 1) * 1000\n",
        "    print(result[start:end])\n",
        "\n",
        "    # Tokenize the input text\n",
        "    inputs = tokenizer(result[start:end], max_length=1024, return_tensors=\"pt\", truncation=True)\n",
        "\n",
        "    # Generate the summary using the summarizer model\n",
        "    summary_ids = summarizer.generate(inputs.input_ids, max_length=150, min_length=50, do_sample=False)\n",
        "    out = tokenizer.decode(summary_ids[0], skip_special_tokens=True)\n",
        "    #print(\"Summarized text:\\n\" + out)\n",
        "\n",
        "    summarized_text_chunks.append(out)\n",
        "\n",
        "# Concatenate the individual summaries into a single summarized text\n",
        "final_summarized_text = \" \".join(summarized_text_chunks)\n",
        "\n",
        "print(\"\\nFinal Summarized Text:\\n\" + final_summarized_text)"
      ],
      "metadata": {
        "colab": {
          "base_uri": "https://localhost:8080/"
        },
        "id": "tHQySP_SL0T6",
        "outputId": "8c26c514-3320-44c1-f4d8-e8ddf591b64c"
      },
      "execution_count": 65,
      "outputs": [
        {
          "output_type": "stream",
          "name": "stdout",
          "text": [
            "Transcribed text:\n",
            "\n",
            " we know humans learn from their past experiences and machines follow instructions given by humans but what if humans can train the machines to learn from the past data and do what humans can do and much faster well that's called machine learning but it's a lot more than just learning it's also about understanding and reasoning so today we will learn about the basics of machine learning so that's paul he loves listening to new songs he either likes them or dislikes them paul decides this on the basis of the song's tempo genre intensity and the gender of voice for simplicity let's just use tempo and intensity for now so here tempo is on the x axis ranging from relaxed to fast whereas intensity is on the y axis ranging from light to soaring we see that paul likes the song with fast tempo and soaring intensity while he dislikes the song with relaxed tempo and light intensity so now we know paul's choices let's say paul listens to a new song let's name it as song a song a has fast tempo an\n",
            "d a soaring intensity so it lies somewhere here looking at the data can you guess whether paul will like the song or not correct so paul likes this song by looking at paul's past choices we were able to classify the unknown song very easily right let's say now paul listens to a new song let's label it as song b so song b lies somewhere here with medium tempo and medium intensity neither relaxed nor fast neither light nor soaring now can you guess whether paul likes it or not not able to guess whether paul will like it or dislike it are the choices unclear correct we could easily classify song a but when the choice became complicated as in the case of song b yes and that's where machine learning comes in let's see how in the same example for song b if we draw a circle around the song b we see that there are four votes for like whereas one would for dislike if we go for the majority votes we can say that paul will definitely like the song that's all this was a basic machine learning algo\n",
            "rithm also it's called k nearest neighbors so this is just a small example in one of the many machine learning algorithms quite easy right believe me it is but what happens when the choices become complicated as in the case of song b that's when machine learning comes in it learns the data builds the prediction model and when the new data point comes in it can easily predict for it more the data better the model higher will be the accuracy there are many ways in which the machine learns it could be either supervised learning unsupervised learning or reinforcement learning let's first quickly understand supervised learning suppose your friend gives you one million coins of three different currencies say one rupee one euro and one dirham each coin has different weights for example a coin of one rupee weighs three grams one euro weighs seven grams and one dirham weighs four grams your model will predict the currency of the coin here your weight becomes the feature of coins while currency \n",
            "becomes the label when you feed this data to the machine learning model it learns which feature is associated with which label for example it will learn that if a coin is of 3 grams it will be a 1 rupee coin let's give a new coin to the machine on the basis of the weight of the new coin your model will predict the currency hence supervised learning uses labeled data to train the model here the machine knew the features of the object and also the labels associated with those features on this note let's move to unsupervised learning and see the difference suppose you have cricket data set of various players with their respective scores and wickets taken when you feed this data set to the machine the machine identifies the pattern of player performance so it plots this data with the respective wickets on the x-axis while runs on the y-axis while looking at the data you'll clearly see that there are two clusters the one cluster are the players who scored higher runs and took less wickets w\n",
            "hile the other cluster is of the players who scored less runs but took many wickets so here we interpret these two clusters as batsmen and bowlers the important point to note here is that there were no labels of batsmen and bowlers hence the learning with unlabeled data is unsupervised learning so we saw supervised learning where the data was labeled and the unsupervised learning where the data was unlabeled and then there is reinforcement learning which is a reward based learning or we can say that it works on the principle of feedback here let's say you provide the system with an image of a dog and ask it to identify it the system identifies it as a cat so you give a negative feedback to the machine saying that it's a dog's image the machine will learn from the feedback and finally if it comes across any other image of a dog it will be able to classify it correctly that is reinforcement learning to generalize machine learning model let's see a flowchart input is given to a machine le\n",
            "arning model which then gives the output according to the algorithm applied if it's right we take the output as a final result else we provide feedback to the training model and ask it to predict until it learns i hope you've understood supervised and unsupervised learning so let's have a quick quiz you have to determine whether the given scenarios uses supervised or unsupervised learning simple right scenario one facebook recognizes your friend in a picture from an album of tagged photographs scenario 2 netflix recommends new movies based on someone's past movie choices scenario 3 analyzing bank data for suspicious transactions and flagging the fraud transactions think wisely and comment below your answers moving on don't you sometimes wonder how is machine learning possible in today's era well that's because today we have humongous data available everybody is online either making a transaction or just surfing the internet and that's generating a huge amount of data every minute and t\n",
            "hat data my friend is the key to analysis also the memory handling capabilities of computers have largely increased which helps them to process such huge amount of data at hand without any delay and yes computers now have great computational powers so there are a lot of applications of machine learning out there to name a few machine learning is used in healthcare where diagnostics are predicted for doctor's review the sentiment analysis that the tech giants are doing on social media is another interesting application of machine learning fraud detection in the finance sector and also to predict customer churn in the e-commerce sector while booking a gap you must have encountered surge pricing often where it says the fair of your trip has been updated continue booking yes please i'm getting late for office well that's an interesting machine learning model which is used by global taxi giant uber and others where they have differential pricing in real time based on demand the number of ca\n",
            "rs available bad weather rush r etc so they use the surge pricing model to ensure that those who need a cab can get one also it uses predictive modeling to predict where the demand will be high with the goal that drivers can take care of the demand and search pricing can be minimized great hey siri can you remind me to book a cab at 6 pm today ok i'll remind you thanks no problem comment below some interesting everyday examples around you where machines are learning and doing amazing jobs so that's all for machine learning basics today from my site keep watching this space for more interesting videos until then happy learning\n",
            "\n",
            "Final Summarized Text:\n",
            "Machine learning is about understanding and reasoning. We will learn about the basics of machine learning. We'll look at how humans can train machines to learn from the past data and do what humans can do and much faster well that's called machine learning but it's a lot more than just learning. Machine learning was used to predict whether a person would like or dislike a song. We were able to classify the unknown song very easily by looking at paul's past choices. When the choice became complicated machine learning came in and helped us predict whether paul would like the song. Machine learning is the process of learning how to predict the future using data. There are many ways in which the machine learns it could be either supervised learning unsupervised learning or reinforcement learning. In the case of song b that's when machine learning comes in it learns the data builds the prediction model and when the new data point comes in.  supervised learning uses labeled data to train the model here the machine knew the features of the object and also the labels associated with those features on this note. Let's move to unsupervised learning and see the difference suppose you have cricket data set of various players with their respective scores and wickets taken when you feed this data set to the machine the machine identifies the pattern of player performance so it plots this data. hile the other cluster is of the players who scored less runs but took many wickets. There were no labels of batsmen and bowlers hence the learning with unlabeled data is unsupervised learning. There is reinforcement learning which is a reward based learning or we can say that it works on the principle of feedback. arning model which then gives the output according to the algorithm applied if it's right we take the output as a final result else we provide feedback to the training model and ask it to predict until it learns i hope you've understood supervised and unsupervised learning so let's have a quick quiz. There are a lot of applications of machine learning out there to name a few. Machine learning is used in healthcare where diagnostics are predicted for doctor's review. Fraud detection in the finance sector and also to predict customer churn in the e-commerce sector. rs available bad weather rush r etc so they use the surge pricing model to ensure that those who need a cab can get one also it uses predictive modeling to predict where the demand will be high with the goal that drivers can take care of the demand and search pricing can be minimized.\n"
          ]
        }
      ]
    },
    {
      "cell_type": "code",
      "source": [
        "transcribed_text_length = len(result)\n",
        "print(\"Length of the Transcribed Text:\", transcribed_text_length)"
      ],
      "metadata": {
        "colab": {
          "base_uri": "https://localhost:8080/"
        },
        "id": "QBc__0b-ui21",
        "outputId": "41983d02-025b-4685-8d21-32f3c447c589"
      },
      "execution_count": 66,
      "outputs": [
        {
          "output_type": "stream",
          "name": "stdout",
          "text": [
            "Length of the Transcribed Text: 7633\n"
          ]
        }
      ]
    },
    {
      "cell_type": "code",
      "source": [
        "summarized_text_length=len(str(summarized_text))\n",
        "print(\"Length of the Transcribed Text:\", summarized_text_length)"
      ],
      "metadata": {
        "colab": {
          "base_uri": "https://localhost:8080/"
        },
        "id": "iUgBj-SHL1BN",
        "outputId": "dd6483c1-75d7-4918-fe55-b822a17033d9"
      },
      "execution_count": 67,
      "outputs": [
        {
          "output_type": "stream",
          "name": "stdout",
          "text": [
            "Length of the Transcribed Text: 2731\n"
          ]
        }
      ]
    },
    {
      "cell_type": "code",
      "source": [
        "str(summarized_text)"
      ],
      "metadata": {
        "colab": {
          "base_uri": "https://localhost:8080/",
          "height": 140
        },
        "id": "U2K6vqlnL4VC",
        "outputId": "0005af25-ec93-4bc9-913e-6165d96edb4f"
      },
      "execution_count": 68,
      "outputs": [
        {
          "output_type": "execute_result",
          "data": {
            "text/plain": [
              "'[\"Germany\\'s car industry is a vital part of its economy with links to government that go back decades. The industry has proved of Bellwether for the country\\'s future prospects too since the 70s car exports have risen with Germany\\'s wealth and influence manufacturing.\", \"German car makers are now playing catch-up after over half a century of global dominance. In 2000 seven of the world\\'s most valuable companies were German but in the past two decades that number has fallen to just three. Almost half of Germany\\'s GDP comes from exports cars make up the biggest proportion.\", \"In 1998 German trade with China was worth 16 billion dollars now it\\'s worth over 180 billion. There\\'s a fear that Germany could have become too reliant on the Chinese market. There is a strong sense that Germany\\'s China policy is going to have to be recalibrated.\", \\'Two-thirds of German businesses said they still regularly used a fax machine. Only one in three German companies have a central digital strategy. Just eight years ago Angela Merkel became a meme when she referred to the internet as noyland the German for Uncharted Territory.\\', \"Germany\\'s car industry is a microcosm for how the country will need to radically shift traditional forms of power. Oliver zipsa took over as CEO of BMW in 2019 he\\'s overseeing one of the biggest shifts in the company\\'s history a commitment to battery-powered cars.\", \"mate change has forced this shift to a Greener future but it was American not German engineering that first realized it an electric car can be the best car in the world. Sono Motors is a startup based in Munich they\\'re technically car makers but their approach is light years away from the traditional brands.\", \"Sono is the only car company that thinks the industry should be selling fewer cars. Their ethos is emblematic of a new way of German thinking. Sono have the vision for a Greener future but Germany\\'s politics may make it hard to realize.\", \"strial transition that we\\'re going to have to bring about in the years ahead so that\\'s going to mean a very very big role for the next Chancellor. As China\\'s mic grows Germany will have to be more careful about who it gets into bed with. Germany\\'s new leader should plan for a Workforce in need of upskilling.\", \"o Germany has to do better right we have those very big companies this very big players here but they aren\\'t the disruptor. Innovation disruption comes always for me new Young companies which Drive change German startups rarely grow into Tech Giants without making changes. Germany risks losing competitiveness throughout its economy.\", \\'ibe.ibe.ibe.ibi.ibibibebebeb.ibebibeb. ibibibobebebib.ibiba.ibibi.ibeweb.ibeibebiba.ibaiba.ibeiba.IBibeba.ibeibi.IBIBebaiba.ibiibi.\\']'"
            ],
            "application/vnd.google.colaboratory.intrinsic+json": {
              "type": "string"
            }
          },
          "metadata": {},
          "execution_count": 68
        }
      ]
    },
    {
      "cell_type": "markdown",
      "source": [
        "**Creates PDF for Summarized text and transcribed text**"
      ],
      "metadata": {
        "id": "R9rn0yFzvbsO"
      }
    },
    {
      "cell_type": "code",
      "source": [
        "from reportlab.lib.pagesizes import letter\n",
        "from reportlab.pdfgen import canvas\n",
        "\n",
        "def write_text_to_pdf(file_path, text):\n",
        "    c = canvas.Canvas(file_path, pagesize=letter)\n",
        "    width, height = letter\n",
        "\n",
        "    # Set the font and font size\n",
        "    c.setFont(\"Helvetica\", 12)\n",
        "\n",
        "    # Set the margins and position to write the text\n",
        "    left_margin = 50\n",
        "    top_margin = height - 50\n",
        "    line_height = 14\n",
        "    max_line_length = width - left_margin * 2\n",
        "\n",
        "    # Split the text into lines to fit within the page width\n",
        "    lines = text.split(\"\\n\")\n",
        "    y_position = top_margin\n",
        "\n",
        "    for line in lines:\n",
        "        words = line.split(\" \")\n",
        "        line_to_draw = words[0]\n",
        "        for word in words[1:]:\n",
        "            if c.stringWidth(line_to_draw + \" \" + word) < max_line_length:\n",
        "                line_to_draw += \" \" + word\n",
        "            else:\n",
        "                c.drawString(left_margin, y_position, line_to_draw)\n",
        "                y_position -= line_height\n",
        "                line_to_draw = word\n",
        "\n",
        "        c.drawString(left_margin, y_position, line_to_draw)\n",
        "        y_position -= line_height\n",
        "\n",
        "    c.save()\n",
        "\n",
        "write_text_to_pdf(\"Transcript.pdf\", result)\n",
        "write_text_to_pdf(\"Summary.pdf\", final_summarized_text)\n"
      ],
      "metadata": {
        "id": "WtImBKWhZ2VG"
      },
      "execution_count": 69,
      "outputs": []
    }
  ]
}